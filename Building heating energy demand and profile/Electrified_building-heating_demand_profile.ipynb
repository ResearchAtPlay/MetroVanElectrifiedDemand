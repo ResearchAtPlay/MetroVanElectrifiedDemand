{
 "cells": [
  {
   "cell_type": "markdown",
   "metadata": {},
   "source": [
    "# Creates a 1-year hourly electricity demand profile assuming full electrification of building heating in Metro Vancouver in the year 2016    \n",
    "\n",
    "Building heating includes space heating and water heating in the residential and commercial building sectors.\n",
    "\n",
    "For details on methods, assumptions, and data sources for space heating, refer to Chapter 5.6 in dissertation \"How do we power decarbonization? Land and other resources in Canada’s West\" http://hdl.handle.net/1828/11659\n",
    "\n",
    "Note: daylight savings time and February 29 have been removed from all data sources.\n",
    "\n",
    "12 August 2021 Kevin Palmer-Wilson kevinpw@uvic.ca"
   ]
  },
  {
   "cell_type": "code",
   "execution_count": 1,
   "metadata": {},
   "outputs": [],
   "source": [
    "%matplotlib inline"
   ]
  },
  {
   "cell_type": "code",
   "execution_count": 2,
   "metadata": {},
   "outputs": [],
   "source": [
    "import matplotlib.pyplot as plt\n",
    "import matplotlib.dates\n",
    "import numpy as np\n",
    "import pandas as pd\n",
    "import seaborn as sns\n",
    "from IPython.display import display\n",
    "import datetime\n",
    "from collections import OrderedDict #OrderedDict() allows us to create a legend wthout duplicate items\n",
    "from os import getcwd, path"
   ]
  },
  {
   "cell_type": "code",
   "execution_count": 3,
   "metadata": {},
   "outputs": [],
   "source": [
    "# Configuration:\n",
    "input_path = path.join(getcwd(),'Input data')\n",
    "output_path = path.join(getcwd(),'Output data')\n",
    "\n",
    "#version\n",
    "#version = 'V23-TRANSPORT'\n",
    "#version = 'V42-LowHeatDemand'\n",
    "\n",
    "#Define folder structure for input files\n",
    "#input_path = path.join(getcwd(),'..','data','demand')\n",
    "\n",
    "#Define folder structure for output files\n",
    "#fig_prefix = path.join(getcwd(),'figures','demand')\n",
    "#tab_prefix = path.join(getcwd(),'tables')\n",
    "#para_prefix = path.join(getcwd(),'OSeMOSYS_params')\n",
    "#demand_prefix = path.join(getcwd(),'total_hourly_demands')\n",
    "\n",
    "#Use perturbed space heat demand? (data produced by TempDemandPerturbation.ipynb <- must be run separately)\n",
    "#perturbSpaceHeat = False #True: use 1996 climate data for space heat demand, False: use 2016 climate data for space heat demand"
   ]
  },
  {
   "cell_type": "code",
   "execution_count": 4,
   "metadata": {},
   "outputs": [],
   "source": [
    "#the file \"Metro Vancouver space and water annual demands and efficiencies.xlsx\" contains annual energy demands and a compilation of observed efficiencies. \n",
    "#Assumed transformation efficciencies are also included. Let's read that file.\n",
    "#data = pd.read_excel('../data/demand/Electricity demand scenario data.xlsx', sheet_name='Energy demands and efficiencies', skiprows=2)\n",
    "data = pd.read_excel(path.join(input_path,'Metro Vancouver space and water annual demands and efficiencies.xlsx'), sheet_name='Energy demands and efficiencies', skiprows=2)\n",
    "\n",
    "#let's create a function to easily retrieve individual data points from this dataframe\n",
    "def get(par, col='Applied Value', data=data):\n",
    "    return data.at[data.index[data['Parameter']==par].tolist()[0],col]"
   ]
  },
  {
   "cell_type": "markdown",
   "metadata": {},
   "source": [
    "## Annual space heat demand\n",
    "\n"
   ]
  },
  {
   "cell_type": "code",
   "execution_count": 6,
   "metadata": {},
   "outputs": [
    {
     "name": "stdout",
     "output_type": "stream",
     "text": [
      "Vancouver's annual space heat demands are\n",
      "Residential:  8.92  TWh\n",
      "Commercial:  6.21  TWh\n",
      "Total:  15.135  TWh\n"
     ]
    }
   ],
   "source": [
    "#Calculate the heat energy demand by multiplying energy consumption with technology efficiencies\n",
    "E_S_Heat_R_e = get('^E_SR,e')*get('n_SR,e,obs') #Residential electric space heat demand\n",
    "E_S_Heat_R_f = get('^E_SR,f')*get('n_SR,f,obs') #Residential fossil fuel space heat demand\n",
    "\n",
    "E_S_Heat_C_e = get('^E_SC,e')*get('n_SC,e,obs') #Commercial historially electric space heat demand\n",
    "E_S_Heat_C_f = get('^E_SC,f')*get('n_SC,f,obs') #Commercial fossil fuel space heat demand\n",
    "\n",
    "E_S_Heat_R = E_S_Heat_R_e + E_S_Heat_R_f #Total Residential space heat demand\n",
    "E_S_Heat_C = E_S_Heat_C_e + E_S_Heat_C_f #Total Commercial space heat demand\n",
    "\n",
    "E_S_Heat = E_S_Heat_R + E_S_Heat_C #Total residential and commercial space heat demand in Metro Vancouver\n",
    "\n",
    "print('Vancouver\\'s annual space heat demands are')\n",
    "print('Residential: ',round(E_S_Heat_R,2),' TWh')\n",
    "print('Commercial: ',round(E_S_Heat_C,2),' TWh')\n",
    "print('Total: ',round(E_S_Heat,3),' TWh')"
   ]
  },
  {
   "cell_type": "markdown",
   "metadata": {},
   "source": [
    "## Annual water heat demand"
   ]
  },
  {
   "cell_type": "code",
   "execution_count": 8,
   "metadata": {},
   "outputs": [
    {
     "name": "stdout",
     "output_type": "stream",
     "text": [
      "Vancouver's annual water heat demands are\n",
      "Residential:  4.54  TWh\n",
      "Commercial:  0.65  TWh\n",
      "Total:  5.181  TWh\n"
     ]
    }
   ],
   "source": [
    "#Calculate the heat energy demand by multiplying energy consumption with technology efficiencies\n",
    "E_W_Heat_R_e = get('^E_WR,e')*get('n_WR,e,obs') #Residential electric water heat demand\n",
    "E_W_Heat_R_f = get('^E_WR,f')*get('n_WR,f,obs') #Residential fossil fuel water heat demand\n",
    "\n",
    "E_W_Heat_C_e = get('^E_WC,e')*get('n_WC,e,obs') #Commercial historially electric water heat demand\n",
    "E_W_Heat_C_f = get('^E_WC,f')*get('n_WC,f,obs') #Commercial fossil fuel water heat demand\n",
    "\n",
    "E_W_Heat_R = E_W_Heat_R_e + E_W_Heat_R_f #Total Residential water heat demand\n",
    "E_W_Heat_C = E_W_Heat_C_e + E_W_Heat_C_f #Total Commercial water heat demand\n",
    "\n",
    "E_W_Heat = E_W_Heat_R + E_W_Heat_C #Total residential and commercial water heat demand in Metro Vancouver\n",
    "\n",
    "print('Vancouver\\'s annual water heat demands are')\n",
    "print('Residential: ',round(E_W_Heat_R,2),' TWh')\n",
    "print('Commercial: ',round(E_W_Heat_C,2),' TWh')\n",
    "print('Total: ',round(E_W_Heat,3),' TWh')"
   ]
  },
  {
   "cell_type": "markdown",
   "metadata": {},
   "source": [
    "## Annual Road Transportation Demand"
   ]
  },
  {
   "cell_type": "code",
   "execution_count": 9,
   "metadata": {},
   "outputs": [],
   "source": [
    "# E_T = (get('^E_PC')*get('n_PC,obs')/get('n_PC,trans')+\n",
    "#       get('^E_PT')*get('n_PT,obs')/get('n_PT,trans')+\n",
    "#       get('^E_FL')*get('n_FL,obs')/get('n_FL,trans')+\n",
    "#       get('^E_FMD')*get('n_FMD,obs')/get('n_FMD,trans')+\n",
    "#       get('^E_FMG')*get('n_FMG,obs')/get('n_FMG,trans')+\n",
    "#       get('^E_FH')*get('n_FH,obs')/get('n_FH,trans')     \n",
    "#      )\n",
    "\n",
    "# #compute the energy-weighted average efficiency\n",
    "# n_T_mean = (get('^E_PC')*get('n_PC,obs')+\n",
    "#             get('^E_PT')*get('n_PT,obs')+\n",
    "#             get('^E_FL')*get('n_FL,obs')+\n",
    "#             get('^E_FMD')*get('n_FMD,obs')+\n",
    "#             get('^E_FMG')*get('n_FMG,obs')+\n",
    "#             get('^E_FH')*get('n_FH,obs') \n",
    "#            )/(get('^E_PC')*get('n_PC,obs')/get('n_PC,trans')+\n",
    "#               get('^E_PT')*get('n_PT,obs')/get('n_PT,trans')+\n",
    "#               get('^E_FL')*get('n_FL,obs')/get('n_FL,trans')+\n",
    "#               get('^E_FMD')*get('n_FMD,obs')/get('n_FMD,trans')+\n",
    "#               get('^E_FMG')*get('n_FMG,obs')/get('n_FMG,trans')+\n",
    "#               get('^E_FH')*get('n_FH,obs')/get('n_FH,trans')     \n",
    "#              )\n",
    "        \n",
    "\n",
    "# print('Vancouver\\'s annual electrified road transportations demand is')\n",
    "# print(round(E_T,2),' TWh')\n",
    "\n",
    "# print('Vancouver\\'s energy-weighted mean electrified road transportation efficiency is')\n",
    "# print(round(n_T_mean,2),' km/kWh')"
   ]
  },
  {
   "cell_type": "markdown",
   "metadata": {},
   "source": [
    "## Annual Remaining Electricity Demand"
   ]
  },
  {
   "cell_type": "code",
   "execution_count": null,
   "metadata": {},
   "outputs": [],
   "source": [
    "# #The net electricity demand calculated here excludes historically electric space and water heat demand\n",
    "# E_E = get('E_G')-(get('^E_SR,e')+get('^E_SC,e')+get('^E_WC,e')+get('^E_WC,e'))\n",
    "\n",
    "# #Add electrified transportation demand if set is switched to True\n",
    "# #if inclTransport == True:\n",
    "# #    E_E = E_E + E_T\n",
    "\n",
    "# print('Vancouver\\'s annual remaining electricity demand excluding historically electric space heat is')\n",
    "# print(round(E_E,3),' TWh')\n",
    "\n",
    "# #print message if switch to include transport demand is set to True\n",
    "# #if inclTransport == True:\n",
    "# #    print('Electrified Tranportation demand INCLUDED')"
   ]
  },
  {
   "cell_type": "markdown",
   "metadata": {},
   "source": [
    "## Total Annual Space and Water Heat Demand"
   ]
  },
  {
   "cell_type": "code",
   "execution_count": null,
   "metadata": {},
   "outputs": [],
   "source": [
    "#LOW-Scenario\n",
    "#E_D_LOW = E_H_LOW + E_T + E_E\n",
    "\n",
    "#HIGH-Scenario\n",
    "#E_D_HIGH = E_H_HIGH + E_T + E_E\n",
    "\n",
    "#print('Vancouver\\'s total annual space and water heat demand is')\n",
    "#print('LOW-Scenario: ',round(E_D_LOW,2),' TWh')\n"
   ]
  },
  {
   "cell_type": "markdown",
   "metadata": {},
   "source": [
    "## Space Heat Demand Profile"
   ]
  },
  {
   "cell_type": "markdown",
   "metadata": {},
   "source": [
    "### Residential space heat demand profile"
   ]
  },
  {
   "cell_type": "code",
   "execution_count": 11,
   "metadata": {},
   "outputs": [],
   "source": [
    "#Residential space heating demand is derived from proprietary residenrial load data from 2995 dwellings in the Lower Mainland\n",
    "#of British Columbia, spanning November 2015 to October 2017. 890 of those dewllings are taggged to use electric heating.\n",
    "P_SR = pd.read_excel(path.join(input_path,'Residential_electric_demand_profile_by_housetype.xlsx'), sheet_name='2016_wout_Feb29_wout_DaylightST')\n",
    "\n",
    "#lets create a datetime column\n",
    "P_SR['Datetime'] = pd.to_datetime(P_SR['Date'].astype(str) + ' ' + (P_SR['HE'] -1).astype(str) + ':00')\n",
    "\n",
    "#Weights are the number of electrically heated dwellings for this type dwelling in the dataset.\n",
    "#We assume that the dataset is a representative sample of British Columbia and Vancouver.\n",
    "wLR = 265 #low-rise Apartments\n",
    "wSD = 233 #Single/Duplex Homes\n",
    "wHR = 198 #High-rise Apartments\n",
    "wRH = 174 #Row Houses\n",
    "wMH = 20  #Mobile Homes\n",
    "\n",
    "#Weight each housetypes demand by the number of houses to create the total residential demand\n",
    "P_SR['Total'] = (P_SR['Residential - Low-Rise Apt Suites (Elec Heat)'] * wLR +\n",
    "                P_SR['Residential - High-Rise Apt Suites (Elec Heat)'] * wHR +\n",
    "                P_SR['Residential - Row Houses Units (Elec Heat)'] * wRH +\n",
    "                P_SR['Residential - Single/Duplex (Elec Heat)'] * wSD +\n",
    "                P_SR['Residential - Mobile (Elec Heat)'] * wMH\n",
    "               )\n",
    "\n",
    "#Normalize the resdidential demand profile\n",
    "P_SR['Normalized_Total'] = P_SR['Total'] / P_SR['Total'].sum()\n",
    "                \n",
    "#plot the demand profile\n",
    "ax = sns.lineplot(x = P_SR['Date'], y = P_SR['Normalized_Total'], legend = 'full', ci = None)\n",
    "ylabel = plt.ylabel('Fraction of annual demand (1/h)')"
   ]
  },
  {
   "cell_type": "code",
   "execution_count": 11,
   "metadata": {},
   "outputs": [
    {
     "data": {
      "image/png": "[encoded data removed]",
      "text/plain": [
       "<Figure size 432x288 with 1 Axes>"
      ]
     },
     "metadata": {
      "needs_background": "light"
     },
     "output_type": "display_data"
    }
   ],
   "source": [
    "#plot the demand profile\n",
    "ax = sns.lineplot(x = P_SR['Date'], y = P_SR['Normalized_Total'] * E_T * 1000, legend = 'full', ci = None)\n",
    "ylabel = plt.ylabel('Fraction of annual demand (1/h)')"
   ]
  },
  {
   "cell_type": "markdown",
   "metadata": {},
   "source": [
    "### Commercial & Institutional space heat demand profile"
   ]
  },
  {
   "cell_type": "code",
   "execution_count": null,
   "metadata": {},
   "outputs": [],
   "source": [
    "#Commmercial space heat demand profile is derived from 16 types of reference building models published by US DOE.\n",
    "#Buildings are weighted to match the building stock in British Columbia\n",
    "#source data available at: https://openei.org/doe-opendata/dataset/commercial-and-residential-hourly-load-profiles-for-all-tmy3-locations-in-the-united-states\n",
    "\n",
    "#File names are rather long, let's define the prefix and suffix of file names to save space.\n",
    "pre = 'RefBldg'\n",
    "suf = 'New2004_v1.3_7.1_4C_USA_WA_SEATTLE.csv'\n",
    "\n",
    "# #WEIGHTING REMOVED BY RESETTING WEIGHTS TO 1 BELOW\n",
    "# #Dictionary of buidling types and their resective weights. Weights are approximated by the number of \n",
    "# #establishements surveyed in British Columbia from Table 2.1 in \n",
    "# #\"Natural Resources Canada, 2013. Survey of commercial and institutional energy use: establishments 2009\"\n",
    "# #http://oee.nrcan.gc.ca/publications/statistics/scieu/2009/pdf/SCIEU2009Establishments.pdf\n",
    "# bldgDict = {'FullServiceRestaurant' : 8254, #Food Services and Drinking Places (722)\n",
    "#             'Hospital' : 81 + 1152, #81 Hostpitals (622) + 1152 Nursing and Residential Care Facilities (623)\n",
    "#             'LargeHotel': round(1691/2), # half of 1691 Accommodation Services (721)\n",
    "#             'LargeOffice' :  672 + 26, # 672 Public Administration (91) + 26 Universities (6113)\n",
    "#             'MediumOffice' :3072 + 2076, # 3072 Religious Organizations (813110) + 2076 Arts, Entertainment and Recreation (71)\n",
    "#             'MidriseApartment' : 0,\n",
    "#             'OutPatient' : 7771 + 1905, # 7771 Ambulatory Health Care Services (621) + 1905 Social Assistance (624) \n",
    "#             'PrimarySchool' : round(1909/2), # half of 1909 Primary and Secondary Schools (6111) \n",
    "#             'QuickServiceRestaurant' : 0,\n",
    "#             'SecondarySchool' : round(1909/2) + 1477, # half of 1909 Primary and Secondary Schools (6111)+ 1477 Colleges, CÉGEPs and Other Schools (6112, 6114, 6115, 6116, 6117)\n",
    "#             'SmallHotel' : round(1691/2), # half of 1691 Accommodation Services (721)\n",
    "#             'SmallOffice' : 1185 + 23978, #1185 Information and Cultural Industries (51) + 23978 Financial, Real Estate and Other Professional Services (52–56)\n",
    "#             'Stand-aloneRetail' : 14364,#Retail trade (44 - 45, excluding 445)\n",
    "#             'StripMall' :0,\n",
    "#             'SuperMarket' : 2486, #Food and Beverage Industries (445)\n",
    "#             'Warehouse' : 8141 + 11105} # 8141 Wholesale and Warehousing (41 & 49) + 11105 Transportation and Other Services (48 and 81) (Except 813110) \n",
    "\n",
    "# #weight each commercial building type as one, except midrise apartments\n",
    "# for k in bldgDict:\n",
    "#     if k != 'MidriseApartment':\n",
    "#         bldgDict[k] = 1\n",
    "# #print(bldgDict)\n",
    "    \n",
    "#DOE Weights for CLimate Zone 4C\n",
    "bldgDict = {'FullServiceRestaurant' :24.6,\n",
    "            'Hospital' :5.8,\n",
    "            'LargeHotel':13.3,\n",
    "            'LargeOffice' : 4.1,\n",
    "            'MediumOffice' :48.3,\n",
    "            'MidriseApartment' : 0,\n",
    "            'OutPatient' :58.5,\n",
    "            'PrimarySchool' :16.8,\n",
    "            'QuickServiceRestaurant' : 75.7,\n",
    "            'SecondarySchool' :15.2,\n",
    "            'SmallHotel' :12,\n",
    "            'SmallOffice' :294.8,\n",
    "            'Stand-aloneRetail' :227.1,\n",
    "            'StripMall' :62.8,\n",
    "            'SuperMarket' :10.8,\n",
    "            'Warehouse' :110.7}\n",
    "    \n",
    "#the name of the column contains the heat demand in each csv file\n",
    "heatColumn = 'Heating:Gas [kW](Hourly)'\n",
    "\n",
    "#Create a data frame with the dates and HE (hour ending) from our P_SR dataframe to store our heat demand.\n",
    "P_SC = P_SR.loc[:,'Date':'HE']\n",
    "P_SC = P_SC.reset_index(drop=True)\n",
    "\n",
    "#lets create a datetime column\n",
    "P_SC['Datetime'] = pd.to_datetime(P_SC['Date'].astype(str) + ' ' + (P_SC['HE'] -1).astype(str) + ':00')\n",
    "\n",
    "#Read the csv files and add the heating demand colomn from each csv file to our dataframe\n",
    "for bldg, weight in bldgDict.items():\n",
    "    \n",
    "    #read each entire csv\n",
    "    dfTemp = pd.read_csv('../data/demand/heat/commercial/'+pre+bldg+suf)\n",
    "    \n",
    "    #copy the column with the heat demand into our dataframe\n",
    "    P_SC.loc[:,bldg] = dfTemp.loc[:, heatColumn] * weight\n",
    "\n",
    "#Create the sum of all building demands\n",
    "P_SC.loc[:,'Total'] = P_SC.loc[:, bldgDict.keys()].sum(axis=1)\n",
    "\n",
    "#Normalize the total Commercial, Institutional and Publich Administration building demands\n",
    "P_SC['Normalized_Total'] = P_SC['Total'] / P_SC['Total'].sum()\n",
    "\n",
    "#Plot the commercial & institutional demand profile\n",
    "ax = sns.lineplot(x = P_SC['Date'], y = P_SC['Normalized_Total'], legend = 'full', ci = None)\n",
    "ylabel = plt.ylabel('Load (1/h)')\n",
    "\n",
    "#print(P_SC['Normalized_Total'].max())"
   ]
  },
  {
   "cell_type": "markdown",
   "metadata": {},
   "source": [
    "### Total space heat demand profile"
   ]
  },
  {
   "cell_type": "code",
   "execution_count": null,
   "metadata": {},
   "outputs": [],
   "source": [
    "#Create the combined space heat demand profile from the residential\n",
    "#and the commercial & institutional profile\n",
    "P_SH = P_SR.loc[:,'Date':'HE']\n",
    "\n",
    "#lets create a datetime column\n",
    "P_SH['Datetime'] = pd.to_datetime(P_SH['Date'].astype(str) + ' ' + (P_SH['HE'] -1).astype(str) + ':00')\n",
    "\n",
    "#Create separate heat demand profiles for HIGH and LOW scenarios\n",
    "P_SH['Demand'] = (P_SR['Normalized_Total'] * E_S_Heat_R) + (P_SC['Normalized_Total'] * E_S_Heat_C)\n",
    "#P_H['HIGH_Demand'] = (P_R['Normalized_Total'] * E_R_HIGH) + (P_C['Normalized_Total'] * E_C_HIGH)\n",
    "\n",
    "#Create normalized heat demand profiles (These normalized profiles should be equivalent to each other!)\n",
    "P_SH['Normalized_Demand'] = P_SH['Demand'] / P_SH['Demand'].sum()\n",
    "#P_H['Normalized_HIGH_Demand'] = P_H['HIGH_Demand'] / P_H['HIGH_Demand'].sum()\n",
    "\n",
    "#Plot the combined residential and commercial & institutional demand profile\n",
    "ax = sns.lineplot(x = P_SH['Date'], y = P_SH['Normalized_Demand'], legend = 'full', ci = None)\n",
    "#ax2 = sns.lineplot(x = P_H['Date'], y = P_H['Normalized_HIGH_Demand'], legend = 'full', ci = None)\n",
    "ylabel = plt.ylabel('Load (1/h)')"
   ]
  },
  {
   "cell_type": "markdown",
   "metadata": {},
   "source": [
    "## Water heat demand profile"
   ]
  },
  {
   "cell_type": "markdown",
   "metadata": {},
   "source": [
    "### Residential water heat demand profile"
   ]
  },
  {
   "cell_type": "code",
   "execution_count": null,
   "metadata": {},
   "outputs": [],
   "source": [
    "#print(P_SR.head())\n",
    "\n",
    "#Residential water heating demand is taken from the IESO CE Tool, data was provided by Guidehouse (formerly Navigant)\n",
    "P_WR = pd.read_excel('../data/demand/heat/residential/Guidehouse Load shapes.xlsx', sheet_name='IESO CE Tool')\n",
    "\n",
    "#lets create a date and datetime column\n",
    "P_WR['Date'] = P_SR['Date']\n",
    "P_WR['Datetime'] = pd.to_datetime(P_SR['Date'].astype(str) + ' ' + (P_SR['HE'] -1).astype(str) + ':00')\n",
    "\n",
    "#copy the column with our data to the \"Normalized_Total\" column (we do this to match naming format in other profile dataframes)\n",
    "#the column in the IESO data is already normalized\n",
    "P_WR['Normalized_Total'] = P_WR['Domestic_Hot_Water']\n",
    "                \n",
    "#plot the demand profile\n",
    "ax = sns.lineplot(x = P_WR['Date'], y = P_WR['Normalized_Total'], legend = 'full', ci = None)\n",
    "ylabel = plt.ylabel('Load (1/h)')"
   ]
  },
  {
   "cell_type": "markdown",
   "metadata": {},
   "source": [
    "### Commercial water heat demand profile"
   ]
  },
  {
   "cell_type": "code",
   "execution_count": null,
   "metadata": {},
   "outputs": [],
   "source": [
    "#Commmercial water heat demand profile is derived from 16 types of reference building models published by US DOE.\n",
    "#Commercial Buildings are weighted to match the building stock in British Columbia\n",
    "#source data available at: https://openei.org/doe-opendata/dataset/commercial-and-residential-hourly-load-profiles-for-all-tmy3-locations-in-the-united-states\n",
    "\n",
    "#File names are rather long, let's define the prefix and suffix of file names to save space.\n",
    "pre = 'RefBldg'\n",
    "suf = 'New2004_v1.3_7.1_4C_USA_WA_SEATTLE.csv'\n",
    "\n",
    "# #WEIGHTING REMOVED BY RESETTING WEIGHTS TO 1 BELOW\n",
    "# #Dictionary of buidling types and their resective weights. Weights are approximated by the number of \n",
    "# #establishements surveyed in British Columbia from Table 2.1 in \n",
    "# #\"Natural Resources Canada, 2013. Survey of commercial and institutional energy use: establishments 2009\"\n",
    "# #http://oee.nrcan.gc.ca/publications/statistics/scieu/2009/pdf/SCIEU2009Establishments.pdf\n",
    "# bldgDict = {'FullServiceRestaurant' : 8254, #Food Services and Drinking Places (722)\n",
    "#             'Hospital' : 81 + 1152, #81 Hostpitals (622) + 1152 Nursing and Residential Care Facilities (623)\n",
    "#             'LargeHotel': round(1691/2), # half of 1691 Accommodation Services (721)\n",
    "#             'LargeOffice' :  672 + 26, # 672 Public Administration (91) + 26 Universities (6113)\n",
    "#             'MediumOffice' :3072 + 2076, # 3072 Religious Organizations (813110) + 2076 Arts, Entertainment and Recreation (71)\n",
    "#             'MidriseApartment' : 0,\n",
    "#             'OutPatient' : 7771 + 1905, # 7771 Ambulatory Health Care Services (621) + 1905 Social Assistance (624) \n",
    "#             'PrimarySchool' : round(1909/2), # half of 1909 Primary and Secondary Schools (6111) \n",
    "#             'QuickServiceRestaurant' : 0,\n",
    "#             'SecondarySchool' : round(1909/2) + 1477, # half of 1909 Primary and Secondary Schools (6111)+ 1477 Colleges, CÉGEPs and Other Schools (6112, 6114, 6115, 6116, 6117)\n",
    "#             'SmallHotel' : round(1691/2), # half of 1691 Accommodation Services (721)\n",
    "#             'SmallOffice' : 1185 + 23978, #1185 Information and Cultural Industries (51) + 23978 Financial, Real Estate and Other Professional Services (52–56)\n",
    "#             'Stand-aloneRetail' : 14364,#Retail trade (44 - 45, excluding 445)\n",
    "#             'StripMall' :0,\n",
    "#             'SuperMarket' : 2486, #Food and Beverage Industries (445)\n",
    "#             'Warehouse' : 8141 + 11105} # 8141 Wholesale and Warehousing (41 & 49) + 11105 Transportation and Other Services (48 and 81) (Except 813110) \n",
    "\n",
    "# #weight each commercial building type as one, except midrise apartments\n",
    "# for k in bldgDict:\n",
    "#     if k != 'MidriseApartment':\n",
    "#         bldgDict[k] = 1\n",
    "# #print(bldgDict)\n",
    "\n",
    "#DOE Weights for CLimate Zone 4C\n",
    "bldgDict = {'FullServiceRestaurant' :24.6,\n",
    "            'Hospital' :5.8,\n",
    "            'LargeHotel':13.3,\n",
    "            'LargeOffice' : 4.1,\n",
    "            'MediumOffice' :48.3,\n",
    "            'MidriseApartment' : 0,\n",
    "            'OutPatient' :58.5,\n",
    "            'PrimarySchool' :16.8,\n",
    "            'QuickServiceRestaurant' : 75.7,\n",
    "            'SecondarySchool' :15.2,\n",
    "            'SmallHotel' :12,\n",
    "            'SmallOffice' :294.8,\n",
    "            'Stand-aloneRetail' :227.1,\n",
    "            'StripMall' :62.8,\n",
    "            'SuperMarket' :10.8,\n",
    "            'Warehouse' :110.7}\n",
    "\n",
    "#the name of the column contains the water heat demand in each csv file\n",
    "heatColumn = 'Water Heater:WaterSystems:Gas [kW](Hourly)'\n",
    "\n",
    "#Create a data frame with the dates and HE (hour ending) from our P_R dataframe to store our heat demand.\n",
    "P_WC = P_SR.loc[:,'Date':'HE']\n",
    "P_WC = P_SC.reset_index(drop=True)\n",
    "\n",
    "#lets create a datetime column\n",
    "P_WC['Datetime'] = pd.to_datetime(P_WC['Date'].astype(str) + ' ' + (P_WC['HE'] -1).astype(str) + ':00')\n",
    "\n",
    "#Read the csv files and add the heating demand colomn from each csv file to our dataframe\n",
    "for bldg, weight in bldgDict.items():\n",
    "    \n",
    "    #read each entire csv\n",
    "    dfTemp = pd.read_csv('../data/demand/heat/commercial/'+pre+bldg+suf)\n",
    "      \n",
    "    #copy the column with the heat demand into our dataframe\n",
    "    P_WC.loc[:,bldg] = dfTemp.loc[:, heatColumn] * weight\n",
    "\n",
    "#Create the sum of all building demands\n",
    "P_WC.loc[:,'Total'] = P_WC.loc[:, bldgDict.keys()].sum(axis=1)\n",
    "\n",
    "#Normalize the total Commercial, Institutional and Publich Administration building demands\n",
    "P_WC['Normalized_Total'] = P_WC['Total'] / P_WC['Total'].sum()\n",
    "\n",
    "#Plot the commercial & institutional demand profile\n",
    "ax = sns.lineplot(x = P_WC['Date'], y = P_WC['Normalized_Total'], legend = 'full', ci = None)\n",
    "ylabel = plt.ylabel('Load (1/h)')"
   ]
  },
  {
   "cell_type": "markdown",
   "metadata": {},
   "source": [
    "### Total water heat demand profile"
   ]
  },
  {
   "cell_type": "code",
   "execution_count": null,
   "metadata": {},
   "outputs": [],
   "source": [
    "#Create the combined water heat demand profile from the residential\n",
    "#and the commercial & institutional profile\n",
    "P_WH = P_SR.loc[:,'Date':'HE']\n",
    "\n",
    "#lets create a datetime column\n",
    "P_WH['Datetime'] = pd.to_datetime(P_SH['Date'].astype(str) + ' ' + (P_SH['HE'] -1).astype(str) + ':00')\n",
    "\n",
    "#Create water heat demand column [GW]\n",
    "P_WH['Demand'] = (P_WR['Normalized_Total'] * E_W_Heat_R) + (P_WC['Normalized_Total'] * E_W_Heat_C)\n",
    "\n",
    "#Create a normalized water heat demand profile [Fraction]\n",
    "P_WH['Normalized_Demand'] = P_WH['Demand'] / P_WH['Demand'].sum()\n",
    "\n",
    "#Plot the combined residential and commercial & institutional water heat demand profile\n",
    "ax = sns.lineplot(x = P_WH['Date'], y = P_WH['Normalized_Demand'], legend = 'full', ci = None)\n",
    "#ax2 = sns.lineplot(x = P_H['Date'], y = P_H['Normalized_HIGH_Demand'], legend = 'full', ci = None)\n",
    "ylabel = plt.ylabel('Load (1/h)')"
   ]
  },
  {
   "cell_type": "markdown",
   "metadata": {},
   "source": [
    "## Transportation Demand Profile"
   ]
  },
  {
   "cell_type": "code",
   "execution_count": null,
   "metadata": {},
   "outputs": [],
   "source": [
    "#Create a data frame with the dates and HE (hour ending) from our P_SR dataframe to store our transportation demand.\n",
    "P_T = P_SR.loc[:,'Date':'HE']\n",
    "P_T = P_SC.reset_index(drop=True)\n",
    "\n",
    "#lets create a datetime column\n",
    "P_T['Datetime'] = pd.to_datetime(P_T['Date'].astype(str) + ' ' + (P_T['HE'] -1).astype(str) + ':00')\n",
    "\n",
    "#Using evening-peaking electrified transportation demand profile from Keller et al. 2019\n",
    "#read the 24h demand profile\n",
    "dfTemp=pd.read_csv('../data/demand/transportation/2019_06_21_Vehicle demand profile BC_24h.csv')\n",
    "\n",
    "#repeat the 24h profile for all 365 days and normalize\n",
    "dfTemp2 = pd.concat([dfTemp]*365, ignore_index=True)\n",
    "dfTemp2['Normalized_Demand'] = dfTemp2 ['Demand'] / dfTemp2 ['Demand'].sum() \n",
    "\n",
    "#copy the normalized peak demand profile into our profile dataframe\n",
    "P_T['PEAK']= dfTemp2['Normalized_Demand']\n",
    "\n",
    "#Plot the transportation demand profiles\n",
    "ax = sns.lineplot(x = P_T['HE'][0:23], y = P_T['PEAK'][0:23], legend = 'full', ci = None)\n",
    "#ax2 = sns.lineplot(x = P_T['HE'][0:23], y = P_T['UNIFORM'][0:23], legend = 'full', ci = None)\n",
    "ylabel = plt.ylabel('Load (1/h)')"
   ]
  },
  {
   "cell_type": "markdown",
   "metadata": {},
   "source": [
    "## Remaining Electricity Demand Profile\n",
    "based on BC's historic hourly puplished by the BC Balancing Authority "
   ]
  },
  {
   "cell_type": "code",
   "execution_count": null,
   "metadata": {},
   "outputs": [],
   "source": [
    "#Present day electricity demand in British Columbia [MW]\n",
    "P_E = pd.read_excel('../data/demand/electricity/BalancingAuthorityLoad2016_wout_29Feb_summertime.xls', sheet_name='wout_Feb29_wout_DaylightST', skiprows=1)\n",
    "P_E = P_E.rename(index=str, columns={'Balancing Authority Load': 'BA_Demand'})\n",
    "P_E.columns.values[0] = 'Date'\n",
    "\n",
    "#lets create a datetime column\n",
    "P_E['Datetime'] = pd.to_datetime(P_E['Date'].astype(str) + ' ' + (P_E['HE'] -1).astype(str) + ':00')\n",
    "\n",
    "#Normalize the load profile by deviding the hourly load by the annual demand\n",
    "P_E.loc[:,'Normalized_Gross_Demand'] = P_E.loc[:,'BA_Demand'] / P_E['BA_Demand'].sum()\n",
    "\n",
    "#The BA Demand is the demand of all of BC, but lack of documentation renders it unclear which\n",
    "#components (e.g. Fortis BC, imports/exports, Catalyst paper, etc.) are included. Therefore, we\n",
    "#only use the profile and multiply that profile with our gross Vancouver electricity demand.\n",
    "P_E.loc[:,'Gross_Demand'] = P_E.loc[:,'Normalized_Gross_Demand'] * get('E_G')\n",
    "\n",
    "#let's reset the index because arithmetic with various dataframes was giving us problems\n",
    "P_E = P_E.reset_index(drop=True)\n",
    "\n",
    "#Subtract the historically electric space and water heat demand\n",
    "P_E.loc[:,'Net_Demand'] = P_E.loc[:,'Gross_Demand'] - ( #Electricity\n",
    "    P_SR.loc[:,'Normalized_Total']*E_S_Heat_R_e + #Residential Space Heat\n",
    "    P_SC.loc[:,'Normalized_Total']*E_S_Heat_C_e + #Commercial Space Heat\n",
    "    P_WR.loc[:,'Normalized_Total']*E_W_Heat_R_e + #Residential Water Heat\n",
    "    P_WC.loc[:,'Normalized_Total']*E_W_Heat_C_e  #Commercial Water Heat\n",
    "    )\n",
    "\n",
    "#Compute the normalized net demand\n",
    "P_E.loc[:,'Normalized_Net_Demand'] = P_E.loc[:,'Net_Demand'] / P_E.loc[:,'Net_Demand'].sum()  \n",
    "\n",
    "#plot the gross and net remaining electricity demand profiles\n",
    "ax = sns.lineplot(x = P_E['Date'], y = P_E['Normalized_Gross_Demand'], legend = 'full', ci = None)\n",
    "ax2 = sns.lineplot(x = P_E['Date'], y = P_E['Normalized_Net_Demand'], legend = 'full', ci = None)\n",
    "ylabel = plt.ylabel('Load (1/h)')"
   ]
  },
  {
   "cell_type": "markdown",
   "metadata": {},
   "source": [
    "## Total Electricity Demand Profile\n",
    "The total demand profiles for remaining electricity, space and water heat, and transportation"
   ]
  },
  {
   "cell_type": "code",
   "execution_count": null,
   "metadata": {},
   "outputs": [],
   "source": [
    "#Create the Dataframe appropriate date and HE (hour ending) columns\n",
    "P_D = pd.DataFrame()\n",
    "P_D['Date'], P_D['HE'] = P_E['Date'], P_E['HE']\n",
    "\n",
    "#lets create a datetime column\n",
    "P_D['Datetime'] = pd.to_datetime(P_D['Date'].astype(str) + ' ' + (P_D['HE'] -1).astype(str) + ':00')\n",
    "\n",
    "#Let's put the heat and electricity demands into a single dataframe\n",
    "P_D['Normalized_Space_Heat_Demand'] = P_SH['Normalized_Demand']\n",
    "P_D['Normalized_Water_Heat_Demand'] = P_WH['Normalized_Demand']\n",
    "P_D['Normalized_Elec_Demand'] = P_E['Normalized_Net_Demand']\n",
    "\n",
    "#Compute net demand for increasing shares of transportation electrification (0 to 100% electrification)\n",
    "#colDemandPrefix = 'Net_Demand'\n",
    "for elecShare in range(0,101,10): #go from 0 to 100 in intervalls of 10\n",
    "    colDemandName = 'Normalized_Elec_Demand_' + str(elecShare) +'ShareElecTransp'\n",
    "    P_D[colDemandName] = (\n",
    "        (P_E.loc[:,'Net_Demand'] + P_T['PEAK'] * E_T * elecShare/100) #net demand + transport electrification demand * electrification share \n",
    "        /(P_E.loc[:,'Net_Demand'].sum() + E_T * elecShare/100) #divide by energy to normalize profile\n",
    "    )"
   ]
  },
  {
   "cell_type": "markdown",
   "metadata": {},
   "source": [
    "# 5. Create scenario-specific OSeMOSYS model input parameter files"
   ]
  },
  {
   "cell_type": "code",
   "execution_count": null,
   "metadata": {},
   "outputs": [],
   "source": [
    "#function to write a file in the OSeMOSYS parameter format\n",
    "def demandAndProfile(demandNames, annualDemands, demandProfiles, file):\n",
    "    with open(file, 'w') as f:\n",
    "        #Annual demand\n",
    "        f.write('# Demand\\n')\n",
    "        f.write('# SpecifiedAnnualDemand{r in REGION, f in FUEL, y in YEAR}  Units: GWh\\n')\n",
    "        f.write('# The annual requirement for each output fuel.\\n')\n",
    "        f.write('param SpecifiedAnnualDemand default 0 :=\\n')\n",
    "        f.write('[Vancouver,*,*]: 2015 :=\\n')\n",
    "        for d, demandName in enumerate(demandNames):\n",
    "            f.write(demandName + '\\t' + str(annualDemands[d]*1000) + '\\n')\n",
    "        f.write(';\\n\\n')\n",
    "        \n",
    "        #demand profile\n",
    "        f.write('#param SpecifiedDemandProfile{r in REGION, f in FUEL, l in TIMESLICE, y in YEAR} Units: fraction of SpecifiedAnnualDemand per hour\\n')\n",
    "        f.write('# Normalized load profile, as in the hourly load as a fraction of the total annual demand\\n')\n",
    "        f.write('param SpecifiedDemandProfile default 0 :=\\n')\n",
    "        f.write('[Vancouver,*,*,2015]: ')\n",
    "        [f.write(str(hour)+'\\t') for hour in range(1,len(demandProfiles[d])+1)]\n",
    "        f.write('\\n:=\\n')\n",
    "        for d, demandName in enumerate(demandNames):\n",
    "            #f.write(demandName + '\\t' + str([str(item)+'\\t' for idx, item in demandProfiles[d].iteritems()] + '\\n'))\n",
    "            f.write(demandName + '\\t' + ''.join([str(item)+'\\t' for idx, item in demandProfiles[d].iteritems()]) + '\\n')\n",
    "        f.write('\\n;')\n",
    "        "
   ]
  },
  {
   "cell_type": "code",
   "execution_count": null,
   "metadata": {},
   "outputs": [],
   "source": [
    "#Fetch the perturbed space heat demand if we are to include it in the OSeMOSYS parameter file\n",
    "if perturbSpaceHeat == True:\n",
    "    tempSHdemand = pd.read_csv('../pre-processing/total_hourly_demands/perturbed_hourly_space_heat_demand.csv')\n",
    "    P_SH['Perturbed_SH_Demand_Total_TW'] = tempSHdemand['SH_Demand_Total_GW'] / 1000 #convert GW to TW\n",
    "    P_SH['Perturbed_SH_Normalized_Demand_Total'] = P_SH['Perturbed_SH_Demand_Total_TW'] / P_SH['Perturbed_SH_Demand_Total_TW'].sum()"
   ]
  },
  {
   "cell_type": "code",
   "execution_count": null,
   "metadata": {},
   "outputs": [],
   "source": [
    "#Create OSeMOSYS parameter files for net demand plus increasing shares\n",
    "#of transportation electrification (0 to 100% electrification)\n",
    "\n",
    "demandNames= ['dELEC', 'dS_HEAT','dW_HEAT']\n",
    "\n",
    "for elecShare in range(0,101,10): #go from 0 to 100 in intervalls of 10\n",
    "    \n",
    "    #define the filename where the individual paramter files will be saved\n",
    "    filename = 'remaining_elec_demand_plus_'+ str(elecShare) +'ShareElecTransp.txt'\n",
    "    \n",
    "    #Create list of annual demands\n",
    "    annualDemands = [\n",
    "        P_E['Net_Demand'].sum() + E_T * elecShare/100, #Electricity\n",
    "        #P_SH['Perturbed_SH_Demand_Total_TW'].sum() if perturbSpaceHeat == True else P_SH['SH_Demand_Total_TW'].sum(), #Space Heat\n",
    "        P_SH['Perturbed_SH_Demand_Total_TW'].sum() if perturbSpaceHeat == True else P_SH['Demand'].sum(), #Space Heat\n",
    "        P_WH['Demand'].sum() #Water Heat        \n",
    "    ]\n",
    "    \n",
    "    #define which column to use for the electricity demand profile based on the transport electrification percentage\n",
    "    colDemandName = 'Normalized_Elec_Demand_' + str(elecShare) +'ShareElecTransp'\n",
    "    \n",
    "    #Create list of demand profiles\n",
    "    demandProfiles = [\n",
    "        P_D[colDemandName], #electricity\n",
    "        #P_SH['Perturbed_SH_Normalized_Demand_Total'] if perturbSpaceHeat == True else P_SH['SH_Normalized_Demand_Total_TW'], #Space Heat\n",
    "        P_SH['Perturbed_SH_Normalized_Demand_Total'] if perturbSpaceHeat == True else P_SH['Normalized_Demand'], #Space Heat\n",
    "        P_WH['Normalized_Demand']\n",
    "    ]\n",
    "    \n",
    "    #Write the parameter file\n",
    "    demandAndProfile(demandNames=demandNames,\n",
    "                     annualDemands=annualDemands,\n",
    "                     demandProfiles=demandProfiles, \n",
    "                     file=path.join('OSeMOSYS_params',version,filename))\n",
    "\n",
    "\n",
    "# #Name of scenarios\n",
    "# scenarios = ['LOW-PEAK', 'HIGH-PEAK', 'LOW-UNIFORM', 'HIGH-UNIFORM']\n",
    "\n",
    "# #save to file called:\n",
    "# filesuffix = '_demand_and_profile.txt'\n",
    "\n",
    "# #write to file using our previously defined function\n",
    "# for scn in scenarios:\n",
    "#     #this is hacky, but gets around the fact that we have low and high annual demand stored in separate variables.\n",
    "#     if 'LOW' in scn:\n",
    "#         demandAndProfile(E_D_LOW, P_D['Normalized_'+scn+'_Demand'], path.join(para_prefix,scn + filesuffix))\n",
    "#     if 'HIGH' in scn:\n",
    "#         demandAndProfile(E_D_HIGH, P_D['Normalized_'+scn+'_Demand'], path.join(para_prefix,scn + filesuffix))"
   ]
  },
  {
   "cell_type": "markdown",
   "metadata": {},
   "source": [
    "# 6. Create csv file with electricity and heat demand profiles\n",
    "\n",
    "unit of columns \"\\*\\_Demand\": TW\n",
    "\n",
    "unit of columns \"Normalized_\\*\\_Demand\": 1/h (fraction of total annual demand)\n",
    "\n",
    "\\* = {ELEC, HEAT}\n"
   ]
  },
  {
   "cell_type": "code",
   "execution_count": null,
   "metadata": {},
   "outputs": [],
   "source": [
    "#Name of scenarios\n",
    "#scenarios = ['LOW-PEAK', 'HIGH-PEAK', 'LOW-UNIFORM', 'HIGH-UNIFORM']\n",
    "\n",
    "#save to file called:\n",
    "hourly_demand_file = 'hourly_demands.csv'\n",
    "\n",
    "#convert the demands from TW to GW\n",
    "#for s in scenarios:\n",
    "#    P_D[s+'_Demand'] = P_D[s+'_Demand'] * 1000\n",
    "\n",
    "#save the total hourly demands and the hourly demand profiles to a csv\n",
    "P_D.to_csv(path.join(demand_prefix,hourly_demand_file), index_label='Hour_number')"
   ]
  },
  {
   "cell_type": "code",
   "execution_count": null,
   "metadata": {},
   "outputs": [],
   "source": [
    "#save the space heat demand separately so we can purturb the demand using historic temperature records\n",
    "#space_heat_demand_file = 'hourly_space_heat_demand.csv'\n",
    "#P_SH.to_csv(path.join(demand_prefix,space_heat_demand_file), columns=['Demand'], index_label='Hour_number')\n"
   ]
  },
  {
   "cell_type": "code",
   "execution_count": null,
   "metadata": {},
   "outputs": [],
   "source": [
    "# #Create a single dataframe for all space heat demands so we can purturb the demand using historic temperature records\n",
    "# P_SH_all = P_SH\n",
    "\n",
    "# #Add the individual residential and commercial space heat demand columns\n",
    "# P_SH_all['Demand_R'] = (P_SR['Normalized_Total'] * E_S_Heat_R)\n",
    "# P_SH_all['Demand_C'] = (P_SC['Normalized_Total'] * E_S_Heat_C)\n",
    "\n",
    "# #print(P_SH_all.head())\n",
    "\n",
    "# space_heat_demand_file = 'hourly_space_heat_demand.csv'\n",
    "# P_SH_all.to_csv(path.join(demand_prefix,space_heat_demand_file), columns=['Demand', 'Demand_R', 'Demand_C'], index_label='Hour_number')"
   ]
  },
  {
   "cell_type": "code",
   "execution_count": null,
   "metadata": {},
   "outputs": [],
   "source": [
    "#Output both RESIDENTIAL and COMMERCIAL demand for porturbation\n",
    "#Create a single dataframe for all space heat demands so we can purturb the demand using historic temperature records\n",
    "P_SH_all = P_SH\n",
    "\n",
    "#Add the individual residential and commercial space heat demand columns\n",
    "P_SH_all['SH_Demand_R_TW'] = (P_SR['Normalized_Total'] * E_S_Heat_R)\n",
    "P_SH_all['SH_Demand_C_TW'] = (P_SC['Normalized_Total'] * E_S_Heat_C)\n",
    "\n",
    "#rename the total residential and commercial demand for clarity\n",
    "P_SH_all.rename(columns={'Demand':'SH_Demand_Total_TW', 'Normalized_Demand':'SH_Normalized_Demand_Total_TW'}, inplace=True)\n",
    "\n",
    "#print(P_SH_all.head())\n",
    "\n",
    "#Output residential and commercial total demand profiles to csv file\n",
    "cols=['SH_Demand_R_TW','SH_Demand_C_TW','SH_Demand_Total_TW']\n",
    "space_heat_demand_file = 'hourly_space_heat_demand.csv'\n",
    "P_SH_all.to_csv(path.join(demand_prefix,space_heat_demand_file), columns=cols, index_label='Hour_number')\n",
    "\n",
    "\n",
    "\n",
    "print(P_SH_all.head())"
   ]
  },
  {
   "cell_type": "code",
   "execution_count": null,
   "metadata": {},
   "outputs": [],
   "source": [
    "#Output residential and commercial total demand profiles to csv file for CODERS database\n",
    "\n",
    "#Convert TW to GW\n",
    "P_SH_all['SH_Demand_R_GW'] = P_SH_all['SH_Demand_R_TW'] * 1000\n",
    "P_SH_all['SH_Demand_C_GW'] = P_SH_all['SH_Demand_C_TW'] * 1000\n",
    "P_SH_all['SH_Demand_Total_GW'] = P_SH_all['SH_Demand_Total_TW'] * 1000\n",
    "\n",
    "cols=['Date','HE','Datetime','SH_Demand_R_GW','SH_Demand_C_GW','SH_Demand_Total_GW']\n",
    "space_heat_demand_file_CODERS = 'hourly_space_heat_demand_for_CODERS.csv'\n",
    "P_SH_all.to_csv(path.join(demand_prefix,space_heat_demand_file_CODERS), columns=cols, index_label='Hour_number')"
   ]
  },
  {
   "cell_type": "code",
   "execution_count": null,
   "metadata": {},
   "outputs": [],
   "source": [
    "# #Output only COMMERCIAL demand for porturbation\n",
    "# #Create a single dataframe for all space heat demands so we can purturb the demand using historic temperature records\n",
    "# P_SH_all = P_SH\n",
    "\n",
    "# #Add the individual residential and commercial space heat demand columns\n",
    "# #P_SH_all['Demand'] = (P_SR['Normalized_Total'] * E_S_Heat_R)\n",
    "# P_SH_all['Demand'] = (P_SC['Normalized_Total'] * E_S_Heat_C)\n",
    "\n",
    "# #print(P_SH_all.head())\n",
    "\n",
    "# space_heat_demand_file = 'hourly_space_heat_demand.csv'\n",
    "# P_SH_all.to_csv(path.join(demand_prefix,space_heat_demand_file), columns=['Demand'], index_label='Hour_number')\n",
    "\n",
    "# print(P_SH_all.head())"
   ]
  },
  {
   "cell_type": "code",
   "execution_count": null,
   "metadata": {},
   "outputs": [],
   "source": [
    "# #Prior to electrification, Metro Vancouver's peak demand was:\n",
    "# priorElecPeak = P_E['Gross_Demand'].max()*1000\n",
    "# print('Prior to electrification, Metro Vancouver\\'s peak demand was: ' + str(round(priorElecPeak,4)) + ' GW')"
   ]
  },
  {
   "cell_type": "code",
   "execution_count": null,
   "metadata": {},
   "outputs": [],
   "source": [
    "# #After electrification, Metro Vancouver's peak heat demand is:\n",
    "# postElecPeakHeatLOW = P_H['LOW_Demand'].max()*1000\n",
    "# postElecPeakHeatHIGH = P_H['HIGH_Demand'].max()*1000\n",
    "\n",
    "# print('After electrification, Metro Vancouver\\'s peak heat demand is (LOW-efficiency heating): ' + str(round(postElecPeakHeatLOW,4)) + ' GW')\n",
    "# print('After electrification, Metro Vancouver\\'s peak heat demand is (HIGH-efficiency heating): ' + str(round(postElecPeakHeatHIGH,4)) + ' GW')"
   ]
  },
  {
   "cell_type": "code",
   "execution_count": null,
   "metadata": {},
   "outputs": [],
   "source": [
    "#Output peak demands\n",
    "#Residential space heat demand\n",
    "Peak_S_HEAT_R = max(P_SR['Normalized_Total'] * E_S_Heat_R *1000)\n",
    "print(f'Peak residential space heat demand is: {Peak_S_HEAT_R:.2f} GW')\n",
    "#Commercial space heat demand\n",
    "Peak_S_HEAT_C = max(P_SC['Normalized_Total'] * E_S_Heat_C *1000)\n",
    "print(f'Peak commercial space heat demand is: {Peak_S_HEAT_C:.2f} GW')"
   ]
  },
  {
   "cell_type": "code",
   "execution_count": null,
   "metadata": {},
   "outputs": [],
   "source": [
    "#Output commercial building-specific demand profiles to csv file\n",
    "cols=bldgDict.keys()\n",
    "building_space_heat_demand_file = 'commercial_building-specific_hourly_space_heat_demand.csv'\n",
    "P_SC.to_csv(path.join(demand_prefix,building_space_heat_demand_file), columns=cols, index_label='Hour_number')"
   ]
  },
  {
   "cell_type": "code",
   "execution_count": null,
   "metadata": {},
   "outputs": [],
   "source": [
    "P_SC.loc[:,bldgDict.keys()].sum()"
   ]
  },
  {
   "cell_type": "code",
   "execution_count": null,
   "metadata": {},
   "outputs": [],
   "source": [
    "P_SH"
   ]
  },
  {
   "cell_type": "code",
   "execution_count": null,
   "metadata": {},
   "outputs": [],
   "source": []
  },
  {
   "cell_type": "code",
   "execution_count": null,
   "metadata": {},
   "outputs": [],
   "source": []
  },
  {
   "cell_type": "code",
   "execution_count": null,
   "metadata": {},
   "outputs": [],
   "source": []
  }
 ],
 "metadata": {
  "kernelspec": {
   "display_name": "Python 3",
   "language": "python",
   "name": "python3"
  },
  "language_info": {
   "codemirror_mode": {
    "name": "ipython",
    "version": 3
   },
   "file_extension": ".py",
   "mimetype": "text/x-python",
   "name": "python",
   "nbconvert_exporter": "python",
   "pygments_lexer": "ipython3",
   "version": "3.6.4"
  }
 },
 "nbformat": 4,
 "nbformat_minor": 2
}
